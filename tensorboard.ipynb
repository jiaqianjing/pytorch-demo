{
 "metadata": {
  "language_info": {
   "codemirror_mode": {
    "name": "ipython",
    "version": 3
   },
   "file_extension": ".py",
   "mimetype": "text/x-python",
   "name": "python",
   "nbconvert_exporter": "python",
   "pygments_lexer": "ipython3",
   "version": "3.7.9-final"
  },
  "orig_nbformat": 2,
  "kernelspec": {
   "name": "python3",
   "display_name": "Python 3.7.9 64-bit ('pytorch': conda)",
   "metadata": {
    "interpreter": {
     "hash": "c08086736c00087367aef89866f28981413736b94414d2d237d0eb4e7c861c9b"
    }
   }
  }
 },
 "nbformat": 4,
 "nbformat_minor": 2,
 "cells": [
  {
   "cell_type": "code",
   "execution_count": 1,
   "metadata": {},
   "outputs": [],
   "source": [
    "# import module\n",
    "import matplotlib.pyplot as plt\n",
    "import numpy as np\n",
    "\n",
    "import torch\n",
    "import torchvision\n",
    "import torchvision.transforms as transforms\n",
    "\n",
    "import torch.nn.functional as F\n",
    "import torch.nn as nn\n",
    "import torch.optim as optim"
   ]
  },
  {
   "cell_type": "code",
   "execution_count": 2,
   "metadata": {},
   "outputs": [
    {
     "output_type": "stream",
     "name": "stdout",
     "text": [
      "Variable      Type      Data/Info\n---------------------------------\nF             module    <module 'torch.nn.functio<...>/torch/nn/functional.py'>\nnn            module    <module 'torch.nn' from '<...>es/torch/nn/__init__.py'>\nnp            module    <module 'numpy' from '/Us<...>kages/numpy/__init__.py'>\noptim         module    <module 'torch.optim' fro<...>torch/optim/__init__.py'>\nos            module    <module 'os' from '/Users<...>rch/lib/python3.7/os.py'>\nplt           module    <module 'matplotlib.pyplo<...>es/matplotlib/pyplot.py'>\nsys           module    <module 'sys' (built-in)>\ntorch         module    <module 'torch' from '/Us<...>kages/torch/__init__.py'>\ntorchvision   module    <module 'torchvision' fro<...>torchvision/__init__.py'>\ntransforms    module    <module 'torchvision.tran<...>/transforms/__init__.py'>\n"
     ]
    }
   ],
   "source": [
    "%whos"
   ]
  },
  {
   "cell_type": "code",
   "execution_count": 3,
   "metadata": {},
   "outputs": [],
   "source": [
    "# processdata\n",
    "\n",
    "transform = transforms.Compose([transforms.ToTensor(), transforms.Normalize((.5,), (.5))])\n",
    "\n",
    "# datasets\n",
    "data_path='./datasets/fashion'\n",
    "trainsets = torchvision.datasets.FashionMNIST(data_path, download=True, train=True, transform=transform)\n",
    "testsets = torchvision.datasets.FashionMNIST(data_path, download=True, train=False, transform=transform)\n",
    "\n",
    "# dataloader\n",
    "trainloader = torch.utils.data.DataLoader(trainsets, batch_size=4, shuffle=False, num_workers=2)\n",
    "testloader = torch.utils.data.DataLoader(testsets, batch_size=4, shuffle=False, num_workers=2)\n",
    "\n",
    "# constant of class\n",
    "classes = ('T-shirt/top', 'Trouser', 'Pullover', 'Dress', 'Coat', 'Sandal', 'Shirt', 'Sneaker', 'Bag', 'Ankle Boot')\n",
    "\n",
    "classes_zh = ('T恤', '裤子', '套头衫', '连衣裙', '大衣', '凉鞋', '衬衫', '运动鞋', '包', '裸靴')"
   ]
  },
  {
   "cell_type": "code",
   "execution_count": 4,
   "metadata": {},
   "outputs": [
    {
     "output_type": "stream",
     "name": "stdout",
     "text": [
      "torch.Size([1, 28, 28])\n"
     ]
    },
    {
     "output_type": "execute_result",
     "data": {
      "text/plain": [
       "<matplotlib.image.AxesImage at 0x7ffc3b8ac710>"
      ]
     },
     "metadata": {},
     "execution_count": 4
    },
    {
     "output_type": "display_data",
     "data": {
      "text/plain": "<Figure size 432x288 with 1 Axes>",
      "image/svg+xml": "<?xml version=\"1.0\" encoding=\"utf-8\" standalone=\"no\"?>\n<!DOCTYPE svg PUBLIC \"-//W3C//DTD SVG 1.1//EN\"\n  \"http://www.w3.org/Graphics/SVG/1.1/DTD/svg11.dtd\">\n<!-- Created with matplotlib (https://matplotlib.org/) -->\n<svg height=\"263.63625pt\" version=\"1.1\" viewBox=\"0 0 251.565 263.63625\" width=\"251.565pt\" xmlns=\"http://www.w3.org/2000/svg\" xmlns:xlink=\"http://www.w3.org/1999/xlink\">\n <metadata>\n  <rdf:RDF xmlns:cc=\"http://creativecommons.org/ns#\" xmlns:dc=\"http://purl.org/dc/elements/1.1/\" xmlns:rdf=\"http://www.w3.org/1999/02/22-rdf-syntax-ns#\">\n   <cc:Work>\n    <dc:type rdf:resource=\"http://purl.org/dc/dcmitype/StillImage\"/>\n    <dc:date>2020-11-23T11:41:58.857825</dc:date>\n    <dc:format>image/svg+xml</dc:format>\n    <dc:creator>\n     <cc:Agent>\n      <dc:title>Matplotlib v3.3.2, https://matplotlib.org/</dc:title>\n     </cc:Agent>\n    </dc:creator>\n   </cc:Work>\n  </rdf:RDF>\n </metadata>\n <defs>\n  <style type=\"text/css\">*{stroke-linecap:butt;stroke-linejoin:round;}</style>\n </defs>\n <g id=\"figure_1\">\n  <g id=\"patch_1\">\n   <path d=\"M 0 263.63625 \nL 251.565 263.63625 \nL 251.565 0 \nL 0 0 \nz\n\" style=\"fill:none;\"/>\n  </g>\n  <g id=\"axes_1\">\n   <g id=\"patch_2\">\n    <path d=\"M 26.925 239.758125 \nL 244.365 239.758125 \nL 244.365 22.318125 \nL 26.925 22.318125 \nz\n\" style=\"fill:#ffffff;\"/>\n   </g>\n   <g clip-path=\"url(#p1bee19d79f)\">\n    <image height=\"218\" id=\"imaged502413bd5\" transform=\"scale(1 -1)translate(0 -218)\" width=\"218\" x=\"26.925\" xlink:href=\"data:image/png;base64,\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\" y=\"-21.758125\"/>\n   </g>\n   <g id=\"matplotlib.axis_1\">\n    <g id=\"xtick_1\">\n     <g id=\"line2d_1\">\n      <defs>\n       <path d=\"M 0 0 \nL 0 3.5 \n\" id=\"m7a5970be7b\" style=\"stroke:#000000;stroke-width:0.8;\"/>\n      </defs>\n      <g>\n       <use style=\"stroke:#000000;stroke-width:0.8;\" x=\"30.807857\" xlink:href=\"#m7a5970be7b\" y=\"239.758125\"/>\n      </g>\n     </g>\n     <g id=\"text_1\">\n      <!-- 0 -->\n      <g transform=\"translate(27.626607 254.356563)scale(0.1 -0.1)\">\n       <defs>\n        <path d=\"M 31.78125 66.40625 \nQ 24.171875 66.40625 20.328125 58.90625 \nQ 16.5 51.421875 16.5 36.375 \nQ 16.5 21.390625 20.328125 13.890625 \nQ 24.171875 6.390625 31.78125 6.390625 \nQ 39.453125 6.390625 43.28125 13.890625 \nQ 47.125 21.390625 47.125 36.375 \nQ 47.125 51.421875 43.28125 58.90625 \nQ 39.453125 66.40625 31.78125 66.40625 \nz\nM 31.78125 74.21875 \nQ 44.046875 74.21875 50.515625 64.515625 \nQ 56.984375 54.828125 56.984375 36.375 \nQ 56.984375 17.96875 50.515625 8.265625 \nQ 44.046875 -1.421875 31.78125 -1.421875 \nQ 19.53125 -1.421875 13.0625 8.265625 \nQ 6.59375 17.96875 6.59375 36.375 \nQ 6.59375 54.828125 13.0625 64.515625 \nQ 19.53125 74.21875 31.78125 74.21875 \nz\n\" id=\"DejaVuSans-48\"/>\n       </defs>\n       <use xlink:href=\"#DejaVuSans-48\"/>\n      </g>\n     </g>\n    </g>\n    <g id=\"xtick_2\">\n     <g id=\"line2d_2\">\n      <g>\n       <use style=\"stroke:#000000;stroke-width:0.8;\" x=\"69.636429\" xlink:href=\"#m7a5970be7b\" y=\"239.758125\"/>\n      </g>\n     </g>\n     <g id=\"text_2\">\n      <!-- 5 -->\n      <g transform=\"translate(66.455179 254.356563)scale(0.1 -0.1)\">\n       <defs>\n        <path d=\"M 10.796875 72.90625 \nL 49.515625 72.90625 \nL 49.515625 64.59375 \nL 19.828125 64.59375 \nL 19.828125 46.734375 \nQ 21.96875 47.46875 24.109375 47.828125 \nQ 26.265625 48.1875 28.421875 48.1875 \nQ 40.625 48.1875 47.75 41.5 \nQ 54.890625 34.8125 54.890625 23.390625 \nQ 54.890625 11.625 47.5625 5.09375 \nQ 40.234375 -1.421875 26.90625 -1.421875 \nQ 22.3125 -1.421875 17.546875 -0.640625 \nQ 12.796875 0.140625 7.71875 1.703125 \nL 7.71875 11.625 \nQ 12.109375 9.234375 16.796875 8.0625 \nQ 21.484375 6.890625 26.703125 6.890625 \nQ 35.15625 6.890625 40.078125 11.328125 \nQ 45.015625 15.765625 45.015625 23.390625 \nQ 45.015625 31 40.078125 35.4375 \nQ 35.15625 39.890625 26.703125 39.890625 \nQ 22.75 39.890625 18.8125 39.015625 \nQ 14.890625 38.140625 10.796875 36.28125 \nz\n\" id=\"DejaVuSans-53\"/>\n       </defs>\n       <use xlink:href=\"#DejaVuSans-53\"/>\n      </g>\n     </g>\n    </g>\n    <g id=\"xtick_3\">\n     <g id=\"line2d_3\">\n      <g>\n       <use style=\"stroke:#000000;stroke-width:0.8;\" x=\"108.465\" xlink:href=\"#m7a5970be7b\" y=\"239.758125\"/>\n      </g>\n     </g>\n     <g id=\"text_3\">\n      <!-- 10 -->\n      <g transform=\"translate(102.1025 254.356563)scale(0.1 -0.1)\">\n       <defs>\n        <path d=\"M 12.40625 8.296875 \nL 28.515625 8.296875 \nL 28.515625 63.921875 \nL 10.984375 60.40625 \nL 10.984375 69.390625 \nL 28.421875 72.90625 \nL 38.28125 72.90625 \nL 38.28125 8.296875 \nL 54.390625 8.296875 \nL 54.390625 0 \nL 12.40625 0 \nz\n\" id=\"DejaVuSans-49\"/>\n       </defs>\n       <use xlink:href=\"#DejaVuSans-49\"/>\n       <use x=\"63.623047\" xlink:href=\"#DejaVuSans-48\"/>\n      </g>\n     </g>\n    </g>\n    <g id=\"xtick_4\">\n     <g id=\"line2d_4\">\n      <g>\n       <use style=\"stroke:#000000;stroke-width:0.8;\" x=\"147.293571\" xlink:href=\"#m7a5970be7b\" y=\"239.758125\"/>\n      </g>\n     </g>\n     <g id=\"text_4\">\n      <!-- 15 -->\n      <g transform=\"translate(140.931071 254.356563)scale(0.1 -0.1)\">\n       <use xlink:href=\"#DejaVuSans-49\"/>\n       <use x=\"63.623047\" xlink:href=\"#DejaVuSans-53\"/>\n      </g>\n     </g>\n    </g>\n    <g id=\"xtick_5\">\n     <g id=\"line2d_5\">\n      <g>\n       <use style=\"stroke:#000000;stroke-width:0.8;\" x=\"186.122143\" xlink:href=\"#m7a5970be7b\" y=\"239.758125\"/>\n      </g>\n     </g>\n     <g id=\"text_5\">\n      <!-- 20 -->\n      <g transform=\"translate(179.759643 254.356563)scale(0.1 -0.1)\">\n       <defs>\n        <path d=\"M 19.1875 8.296875 \nL 53.609375 8.296875 \nL 53.609375 0 \nL 7.328125 0 \nL 7.328125 8.296875 \nQ 12.9375 14.109375 22.625 23.890625 \nQ 32.328125 33.6875 34.8125 36.53125 \nQ 39.546875 41.84375 41.421875 45.53125 \nQ 43.3125 49.21875 43.3125 52.78125 \nQ 43.3125 58.59375 39.234375 62.25 \nQ 35.15625 65.921875 28.609375 65.921875 \nQ 23.96875 65.921875 18.8125 64.3125 \nQ 13.671875 62.703125 7.8125 59.421875 \nL 7.8125 69.390625 \nQ 13.765625 71.78125 18.9375 73 \nQ 24.125 74.21875 28.421875 74.21875 \nQ 39.75 74.21875 46.484375 68.546875 \nQ 53.21875 62.890625 53.21875 53.421875 \nQ 53.21875 48.921875 51.53125 44.890625 \nQ 49.859375 40.875 45.40625 35.40625 \nQ 44.1875 33.984375 37.640625 27.21875 \nQ 31.109375 20.453125 19.1875 8.296875 \nz\n\" id=\"DejaVuSans-50\"/>\n       </defs>\n       <use xlink:href=\"#DejaVuSans-50\"/>\n       <use x=\"63.623047\" xlink:href=\"#DejaVuSans-48\"/>\n      </g>\n     </g>\n    </g>\n    <g id=\"xtick_6\">\n     <g id=\"line2d_6\">\n      <g>\n       <use style=\"stroke:#000000;stroke-width:0.8;\" x=\"224.950714\" xlink:href=\"#m7a5970be7b\" y=\"239.758125\"/>\n      </g>\n     </g>\n     <g id=\"text_6\">\n      <!-- 25 -->\n      <g transform=\"translate(218.588214 254.356563)scale(0.1 -0.1)\">\n       <use xlink:href=\"#DejaVuSans-50\"/>\n       <use x=\"63.623047\" xlink:href=\"#DejaVuSans-53\"/>\n      </g>\n     </g>\n    </g>\n   </g>\n   <g id=\"matplotlib.axis_2\">\n    <g id=\"ytick_1\">\n     <g id=\"line2d_7\">\n      <defs>\n       <path d=\"M 0 0 \nL -3.5 0 \n\" id=\"m2356fff29c\" style=\"stroke:#000000;stroke-width:0.8;\"/>\n      </defs>\n      <g>\n       <use style=\"stroke:#000000;stroke-width:0.8;\" x=\"26.925\" xlink:href=\"#m2356fff29c\" y=\"26.200982\"/>\n      </g>\n     </g>\n     <g id=\"text_7\">\n      <!-- 0 -->\n      <g transform=\"translate(13.5625 30.000201)scale(0.1 -0.1)\">\n       <use xlink:href=\"#DejaVuSans-48\"/>\n      </g>\n     </g>\n    </g>\n    <g id=\"ytick_2\">\n     <g id=\"line2d_8\">\n      <g>\n       <use style=\"stroke:#000000;stroke-width:0.8;\" x=\"26.925\" xlink:href=\"#m2356fff29c\" y=\"65.029554\"/>\n      </g>\n     </g>\n     <g id=\"text_8\">\n      <!-- 5 -->\n      <g transform=\"translate(13.5625 68.828772)scale(0.1 -0.1)\">\n       <use xlink:href=\"#DejaVuSans-53\"/>\n      </g>\n     </g>\n    </g>\n    <g id=\"ytick_3\">\n     <g id=\"line2d_9\">\n      <g>\n       <use style=\"stroke:#000000;stroke-width:0.8;\" x=\"26.925\" xlink:href=\"#m2356fff29c\" y=\"103.858125\"/>\n      </g>\n     </g>\n     <g id=\"text_9\">\n      <!-- 10 -->\n      <g transform=\"translate(7.2 107.657344)scale(0.1 -0.1)\">\n       <use xlink:href=\"#DejaVuSans-49\"/>\n       <use x=\"63.623047\" xlink:href=\"#DejaVuSans-48\"/>\n      </g>\n     </g>\n    </g>\n    <g id=\"ytick_4\">\n     <g id=\"line2d_10\">\n      <g>\n       <use style=\"stroke:#000000;stroke-width:0.8;\" x=\"26.925\" xlink:href=\"#m2356fff29c\" y=\"142.686696\"/>\n      </g>\n     </g>\n     <g id=\"text_10\">\n      <!-- 15 -->\n      <g transform=\"translate(7.2 146.485915)scale(0.1 -0.1)\">\n       <use xlink:href=\"#DejaVuSans-49\"/>\n       <use x=\"63.623047\" xlink:href=\"#DejaVuSans-53\"/>\n      </g>\n     </g>\n    </g>\n    <g id=\"ytick_5\">\n     <g id=\"line2d_11\">\n      <g>\n       <use style=\"stroke:#000000;stroke-width:0.8;\" x=\"26.925\" xlink:href=\"#m2356fff29c\" y=\"181.515268\"/>\n      </g>\n     </g>\n     <g id=\"text_11\">\n      <!-- 20 -->\n      <g transform=\"translate(7.2 185.314487)scale(0.1 -0.1)\">\n       <use xlink:href=\"#DejaVuSans-50\"/>\n       <use x=\"63.623047\" xlink:href=\"#DejaVuSans-48\"/>\n      </g>\n     </g>\n    </g>\n    <g id=\"ytick_6\">\n     <g id=\"line2d_12\">\n      <g>\n       <use style=\"stroke:#000000;stroke-width:0.8;\" x=\"26.925\" xlink:href=\"#m2356fff29c\" y=\"220.343839\"/>\n      </g>\n     </g>\n     <g id=\"text_12\">\n      <!-- 25 -->\n      <g transform=\"translate(7.2 224.143058)scale(0.1 -0.1)\">\n       <use xlink:href=\"#DejaVuSans-50\"/>\n       <use x=\"63.623047\" xlink:href=\"#DejaVuSans-53\"/>\n      </g>\n     </g>\n    </g>\n   </g>\n   <g id=\"patch_3\">\n    <path d=\"M 26.925 239.758125 \nL 26.925 22.318125 \n\" style=\"fill:none;stroke:#000000;stroke-linecap:square;stroke-linejoin:miter;stroke-width:0.8;\"/>\n   </g>\n   <g id=\"patch_4\">\n    <path d=\"M 244.365 239.758125 \nL 244.365 22.318125 \n\" style=\"fill:none;stroke:#000000;stroke-linecap:square;stroke-linejoin:miter;stroke-width:0.8;\"/>\n   </g>\n   <g id=\"patch_5\">\n    <path d=\"M 26.925 239.758125 \nL 244.365 239.758125 \n\" style=\"fill:none;stroke:#000000;stroke-linecap:square;stroke-linejoin:miter;stroke-width:0.8;\"/>\n   </g>\n   <g id=\"patch_6\">\n    <path d=\"M 26.925 22.318125 \nL 244.365 22.318125 \n\" style=\"fill:none;stroke:#000000;stroke-linecap:square;stroke-linejoin:miter;stroke-width:0.8;\"/>\n   </g>\n   <g id=\"text_13\">\n    <!-- Ankle Boot -->\n    <g transform=\"translate(103.186875 16.318125)scale(0.12 -0.12)\">\n     <defs>\n      <path d=\"M 34.1875 63.1875 \nL 20.796875 26.90625 \nL 47.609375 26.90625 \nz\nM 28.609375 72.90625 \nL 39.796875 72.90625 \nL 67.578125 0 \nL 57.328125 0 \nL 50.6875 18.703125 \nL 17.828125 18.703125 \nL 11.1875 0 \nL 0.78125 0 \nz\n\" id=\"DejaVuSans-65\"/>\n      <path d=\"M 54.890625 33.015625 \nL 54.890625 0 \nL 45.90625 0 \nL 45.90625 32.71875 \nQ 45.90625 40.484375 42.875 44.328125 \nQ 39.84375 48.1875 33.796875 48.1875 \nQ 26.515625 48.1875 22.3125 43.546875 \nQ 18.109375 38.921875 18.109375 30.90625 \nL 18.109375 0 \nL 9.078125 0 \nL 9.078125 54.6875 \nL 18.109375 54.6875 \nL 18.109375 46.1875 \nQ 21.34375 51.125 25.703125 53.5625 \nQ 30.078125 56 35.796875 56 \nQ 45.21875 56 50.046875 50.171875 \nQ 54.890625 44.34375 54.890625 33.015625 \nz\n\" id=\"DejaVuSans-110\"/>\n      <path d=\"M 9.078125 75.984375 \nL 18.109375 75.984375 \nL 18.109375 31.109375 \nL 44.921875 54.6875 \nL 56.390625 54.6875 \nL 27.390625 29.109375 \nL 57.625 0 \nL 45.90625 0 \nL 18.109375 26.703125 \nL 18.109375 0 \nL 9.078125 0 \nz\n\" id=\"DejaVuSans-107\"/>\n      <path d=\"M 9.421875 75.984375 \nL 18.40625 75.984375 \nL 18.40625 0 \nL 9.421875 0 \nz\n\" id=\"DejaVuSans-108\"/>\n      <path d=\"M 56.203125 29.59375 \nL 56.203125 25.203125 \nL 14.890625 25.203125 \nQ 15.484375 15.921875 20.484375 11.0625 \nQ 25.484375 6.203125 34.421875 6.203125 \nQ 39.59375 6.203125 44.453125 7.46875 \nQ 49.3125 8.734375 54.109375 11.28125 \nL 54.109375 2.78125 \nQ 49.265625 0.734375 44.1875 -0.34375 \nQ 39.109375 -1.421875 33.890625 -1.421875 \nQ 20.796875 -1.421875 13.15625 6.1875 \nQ 5.515625 13.8125 5.515625 26.8125 \nQ 5.515625 40.234375 12.765625 48.109375 \nQ 20.015625 56 32.328125 56 \nQ 43.359375 56 49.78125 48.890625 \nQ 56.203125 41.796875 56.203125 29.59375 \nz\nM 47.21875 32.234375 \nQ 47.125 39.59375 43.09375 43.984375 \nQ 39.0625 48.390625 32.421875 48.390625 \nQ 24.90625 48.390625 20.390625 44.140625 \nQ 15.875 39.890625 15.1875 32.171875 \nz\n\" id=\"DejaVuSans-101\"/>\n      <path id=\"DejaVuSans-32\"/>\n      <path d=\"M 19.671875 34.8125 \nL 19.671875 8.109375 \nL 35.5 8.109375 \nQ 43.453125 8.109375 47.28125 11.40625 \nQ 51.125 14.703125 51.125 21.484375 \nQ 51.125 28.328125 47.28125 31.5625 \nQ 43.453125 34.8125 35.5 34.8125 \nz\nM 19.671875 64.796875 \nL 19.671875 42.828125 \nL 34.28125 42.828125 \nQ 41.5 42.828125 45.03125 45.53125 \nQ 48.578125 48.25 48.578125 53.8125 \nQ 48.578125 59.328125 45.03125 62.0625 \nQ 41.5 64.796875 34.28125 64.796875 \nz\nM 9.8125 72.90625 \nL 35.015625 72.90625 \nQ 46.296875 72.90625 52.390625 68.21875 \nQ 58.5 63.53125 58.5 54.890625 \nQ 58.5 48.1875 55.375 44.234375 \nQ 52.25 40.28125 46.1875 39.3125 \nQ 53.46875 37.75 57.5 32.78125 \nQ 61.53125 27.828125 61.53125 20.40625 \nQ 61.53125 10.640625 54.890625 5.3125 \nQ 48.25 0 35.984375 0 \nL 9.8125 0 \nz\n\" id=\"DejaVuSans-66\"/>\n      <path d=\"M 30.609375 48.390625 \nQ 23.390625 48.390625 19.1875 42.75 \nQ 14.984375 37.109375 14.984375 27.296875 \nQ 14.984375 17.484375 19.15625 11.84375 \nQ 23.34375 6.203125 30.609375 6.203125 \nQ 37.796875 6.203125 41.984375 11.859375 \nQ 46.1875 17.53125 46.1875 27.296875 \nQ 46.1875 37.015625 41.984375 42.703125 \nQ 37.796875 48.390625 30.609375 48.390625 \nz\nM 30.609375 56 \nQ 42.328125 56 49.015625 48.375 \nQ 55.71875 40.765625 55.71875 27.296875 \nQ 55.71875 13.875 49.015625 6.21875 \nQ 42.328125 -1.421875 30.609375 -1.421875 \nQ 18.84375 -1.421875 12.171875 6.21875 \nQ 5.515625 13.875 5.515625 27.296875 \nQ 5.515625 40.765625 12.171875 48.375 \nQ 18.84375 56 30.609375 56 \nz\n\" id=\"DejaVuSans-111\"/>\n      <path d=\"M 18.3125 70.21875 \nL 18.3125 54.6875 \nL 36.8125 54.6875 \nL 36.8125 47.703125 \nL 18.3125 47.703125 \nL 18.3125 18.015625 \nQ 18.3125 11.328125 20.140625 9.421875 \nQ 21.96875 7.515625 27.59375 7.515625 \nL 36.8125 7.515625 \nL 36.8125 0 \nL 27.59375 0 \nQ 17.1875 0 13.234375 3.875 \nQ 9.28125 7.765625 9.28125 18.015625 \nL 9.28125 47.703125 \nL 2.6875 47.703125 \nL 2.6875 54.6875 \nL 9.28125 54.6875 \nL 9.28125 70.21875 \nz\n\" id=\"DejaVuSans-116\"/>\n     </defs>\n     <use xlink:href=\"#DejaVuSans-65\"/>\n     <use x=\"68.408203\" xlink:href=\"#DejaVuSans-110\"/>\n     <use x=\"131.787109\" xlink:href=\"#DejaVuSans-107\"/>\n     <use x=\"189.697266\" xlink:href=\"#DejaVuSans-108\"/>\n     <use x=\"217.480469\" xlink:href=\"#DejaVuSans-101\"/>\n     <use x=\"279.003906\" xlink:href=\"#DejaVuSans-32\"/>\n     <use x=\"310.791016\" xlink:href=\"#DejaVuSans-66\"/>\n     <use x=\"379.394531\" xlink:href=\"#DejaVuSans-111\"/>\n     <use x=\"440.576172\" xlink:href=\"#DejaVuSans-111\"/>\n     <use x=\"501.757812\" xlink:href=\"#DejaVuSans-116\"/>\n    </g>\n   </g>\n  </g>\n </g>\n <defs>\n  <clipPath id=\"p1bee19d79f\">\n   <rect height=\"217.44\" width=\"217.44\" x=\"26.925\" y=\"22.318125\"/>\n  </clipPath>\n </defs>\n</svg>\n",
      "image/png": "[encoded data removed]"
     },
     "metadata": {
      "needs_background": "light"
     }
    }
   ],
   "source": [
    "# 从 trainsets 中取出一张图，通过 pylot 观察\n",
    "image, label = trainsets[0]\n",
    "print(image.shape)\n",
    "fig = plt.figure()\n",
    "image = image.numpy().transpose((1,2,0))\n",
    "ax = plt.subplot(1,1,1)\n",
    "ax.set_title(classes[label])\n",
    "plt.imshow(image)\n"
   ]
  },
  {
   "cell_type": "code",
   "execution_count": 5,
   "metadata": {},
   "outputs": [],
   "source": [
    "# helper function to show an image\n",
    "# (used in the `plot_classes_preds` function below)\n",
    "def matplotlib_imshow(img, one_channel=False):\n",
    "    if one_channel:\n",
    "        # 灰度处理，将 channel 维度压缩，求三个通道均值\n",
    "        img = img.mean(dim=0)\n",
    "    img = img / 2 + 0.5     # unnormalize\n",
    "    npimg = img.numpy()\n",
    "    if one_channel:\n",
    "        plt.imshow(npimg, cmap=\"Greys\")\n",
    "    else:\n",
    "        plt.imshow(np.transpose(npimg, (1, 2, 0)))"
   ]
  },
  {
   "cell_type": "code",
   "execution_count": 6,
   "metadata": {},
   "outputs": [],
   "source": [
    "class Net(nn.Module):\n",
    "    def __init__(self):\n",
    "        super(Net, self).__init__()\n",
    "        self.conv1 = nn.Conv2d(1, 6, 5)\n",
    "        self.pool = nn.MaxPool2d(2, 2)\n",
    "        self.conv2 = nn.Conv2d(6, 16, 5)\n",
    "        self.fc1 = nn.Linear(16 * 4 * 4, 120)\n",
    "        self.fc2 = nn.Linear(120, 84)\n",
    "        self.fc3 = nn.Linear(84, 10)\n",
    "\n",
    "    def forward(self, x):\n",
    "        x = self.pool(F.relu(self.conv1(x)))\n",
    "        x = self.pool(F.relu(self.conv2(x)))\n",
    "        x = x.view(-1, 16 * 4 * 4)\n",
    "        x = F.relu(self.fc1(x))\n",
    "        x = F.relu(self.fc2(x))\n",
    "        x = self.fc3(x)\n",
    "        return x\n",
    "\n",
    "net = Net()"
   ]
  },
  {
   "cell_type": "code",
   "execution_count": 7,
   "metadata": {},
   "outputs": [],
   "source": [
    "criterion = nn.CrossEntropyLoss()\n",
    "optimizer = optim.SGD(net.parameters(), lr=0.001, momentum=0.9)"
   ]
  },
  {
   "source": [
    "# TensorBoard 设置\n",
    "1. 如果想使用 tensorboard，得提前使用 pip 将 tensorboard 安装到运行环境中。  \n",
    "2. 然后在通过 import torch.utils.tensorboard 进行导入。\n",
    "3. 定义 SumaryWriter() 对象"
   ],
   "cell_type": "markdown",
   "metadata": {}
  },
  {
   "cell_type": "code",
   "execution_count": 8,
   "metadata": {},
   "outputs": [
    {
     "output_type": "stream",
     "name": "stdout",
     "text": [
      "Note: you may need to restart the kernel to use updated packages.\n"
     ]
    }
   ],
   "source": [
    "%pip install tensorboard -q"
   ]
  },
  {
   "cell_type": "code",
   "execution_count": 9,
   "metadata": {},
   "outputs": [],
   "source": [
    "from torch.utils.tensorboard import SummaryWriter\n",
    "\n",
    "log_dir = './log/fashion_mnist_experiment_1'\n",
    "writer = SummaryWriter('log/fashion_mnist_experiment_1')"
   ]
  },
  {
   "source": [
    "# 写入 TensorBoard\n",
    "使用 make_grid 将图像写入到 TensorBoard 中"
   ],
   "cell_type": "markdown",
   "metadata": {}
  },
  {
   "cell_type": "code",
   "execution_count": 10,
   "metadata": {},
   "outputs": [
    {
     "output_type": "stream",
     "name": "stdout",
     "text": [
      "torch.Size([4, 1, 28, 28])\ntorch.Size([3, 32, 122])\n"
     ]
    },
    {
     "output_type": "display_data",
     "data": {
      "text/plain": "<Figure size 432x288 with 1 Axes>",
      "image/svg+xml": "<?xml version=\"1.0\" encoding=\"utf-8\" standalone=\"no\"?>\n<!DOCTYPE svg PUBLIC \"-//W3C//DTD SVG 1.1//EN\"\n  \"http://www.w3.org/Graphics/SVG/1.1/DTD/svg11.dtd\">\n<!-- Created with matplotlib (https://matplotlib.org/) -->\n<svg height=\"121.321606pt\" version=\"1.1\" viewBox=\"0 0 374.352357 121.321606\" width=\"374.352357pt\" xmlns=\"http://www.w3.org/2000/svg\" xmlns:xlink=\"http://www.w3.org/1999/xlink\">\n <metadata>\n  <rdf:RDF xmlns:cc=\"http://creativecommons.org/ns#\" xmlns:dc=\"http://purl.org/dc/elements/1.1/\" xmlns:rdf=\"http://www.w3.org/1999/02/22-rdf-syntax-ns#\">\n   <cc:Work>\n    <dc:type rdf:resource=\"http://purl.org/dc/dcmitype/StillImage\"/>\n    <dc:date>2020-11-23T11:42:09.987317</dc:date>\n    <dc:format>image/svg+xml</dc:format>\n    <dc:creator>\n     <cc:Agent>\n      <dc:title>Matplotlib v3.3.2, https://matplotlib.org/</dc:title>\n     </cc:Agent>\n    </dc:creator>\n   </cc:Work>\n  </rdf:RDF>\n </metadata>\n <defs>\n  <style type=\"text/css\">*{stroke-linecap:butt;stroke-linejoin:round;}</style>\n </defs>\n <g id=\"figure_1\">\n  <g id=\"patch_1\">\n   <path d=\"M -0 121.321606 \nL 374.352357 121.321606 \nL 374.352357 0 \nL -0 0 \nz\n\" style=\"fill:none;\"/>\n  </g>\n  <g id=\"axes_1\">\n   <g id=\"patch_2\">\n    <path d=\"M 26.925 97.443481 \nL 361.725 97.443481 \nL 361.725 9.627088 \nL 26.925 9.627088 \nz\n\" style=\"fill:#ffffff;\"/>\n   </g>\n   <g clip-path=\"url(#pdf401822b1)\">\n    <image height=\"88\" id=\"image6394ed1ae7\" transform=\"scale(1 -1)translate(0 -88)\" width=\"335\" x=\"26.925\" xlink:href=\"data:image/png;base64,\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\" y=\"-9.443481\"/>\n   </g>\n   <g id=\"matplotlib.axis_1\">\n    <g id=\"xtick_1\">\n     <g id=\"line2d_1\">\n      <defs>\n       <path d=\"M 0 0 \nL 0 3.5 \n\" id=\"mfc8581f6c1\" style=\"stroke:#000000;stroke-width:0.8;\"/>\n      </defs>\n      <g>\n       <use style=\"stroke:#000000;stroke-width:0.8;\" x=\"28.297131\" xlink:href=\"#mfc8581f6c1\" y=\"97.443481\"/>\n      </g>\n     </g>\n     <g id=\"text_1\">\n      <!-- 0 -->\n      <g transform=\"translate(25.115881 112.041919)scale(0.1 -0.1)\">\n       <defs>\n        <path d=\"M 31.78125 66.40625 \nQ 24.171875 66.40625 20.328125 58.90625 \nQ 16.5 51.421875 16.5 36.375 \nQ 16.5 21.390625 20.328125 13.890625 \nQ 24.171875 6.390625 31.78125 6.390625 \nQ 39.453125 6.390625 43.28125 13.890625 \nQ 47.125 21.390625 47.125 36.375 \nQ 47.125 51.421875 43.28125 58.90625 \nQ 39.453125 66.40625 31.78125 66.40625 \nz\nM 31.78125 74.21875 \nQ 44.046875 74.21875 50.515625 64.515625 \nQ 56.984375 54.828125 56.984375 36.375 \nQ 56.984375 17.96875 50.515625 8.265625 \nQ 44.046875 -1.421875 31.78125 -1.421875 \nQ 19.53125 -1.421875 13.0625 8.265625 \nQ 6.59375 17.96875 6.59375 36.375 \nQ 6.59375 54.828125 13.0625 64.515625 \nQ 19.53125 74.21875 31.78125 74.21875 \nz\n\" id=\"DejaVuSans-48\"/>\n       </defs>\n       <use xlink:href=\"#DejaVuSans-48\"/>\n      </g>\n     </g>\n    </g>\n    <g id=\"xtick_2\">\n     <g id=\"line2d_2\">\n      <g>\n       <use style=\"stroke:#000000;stroke-width:0.8;\" x=\"83.182377\" xlink:href=\"#mfc8581f6c1\" y=\"97.443481\"/>\n      </g>\n     </g>\n     <g id=\"text_2\">\n      <!-- 20 -->\n      <g transform=\"translate(76.819877 112.041919)scale(0.1 -0.1)\">\n       <defs>\n        <path d=\"M 19.1875 8.296875 \nL 53.609375 8.296875 \nL 53.609375 0 \nL 7.328125 0 \nL 7.328125 8.296875 \nQ 12.9375 14.109375 22.625 23.890625 \nQ 32.328125 33.6875 34.8125 36.53125 \nQ 39.546875 41.84375 41.421875 45.53125 \nQ 43.3125 49.21875 43.3125 52.78125 \nQ 43.3125 58.59375 39.234375 62.25 \nQ 35.15625 65.921875 28.609375 65.921875 \nQ 23.96875 65.921875 18.8125 64.3125 \nQ 13.671875 62.703125 7.8125 59.421875 \nL 7.8125 69.390625 \nQ 13.765625 71.78125 18.9375 73 \nQ 24.125 74.21875 28.421875 74.21875 \nQ 39.75 74.21875 46.484375 68.546875 \nQ 53.21875 62.890625 53.21875 53.421875 \nQ 53.21875 48.921875 51.53125 44.890625 \nQ 49.859375 40.875 45.40625 35.40625 \nQ 44.1875 33.984375 37.640625 27.21875 \nQ 31.109375 20.453125 19.1875 8.296875 \nz\n\" id=\"DejaVuSans-50\"/>\n       </defs>\n       <use xlink:href=\"#DejaVuSans-50\"/>\n       <use x=\"63.623047\" xlink:href=\"#DejaVuSans-48\"/>\n      </g>\n     </g>\n    </g>\n    <g id=\"xtick_3\">\n     <g id=\"line2d_3\">\n      <g>\n       <use style=\"stroke:#000000;stroke-width:0.8;\" x=\"138.067623\" xlink:href=\"#mfc8581f6c1\" y=\"97.443481\"/>\n      </g>\n     </g>\n     <g id=\"text_3\">\n      <!-- 40 -->\n      <g transform=\"translate(131.705123 112.041919)scale(0.1 -0.1)\">\n       <defs>\n        <path d=\"M 37.796875 64.3125 \nL 12.890625 25.390625 \nL 37.796875 25.390625 \nz\nM 35.203125 72.90625 \nL 47.609375 72.90625 \nL 47.609375 25.390625 \nL 58.015625 25.390625 \nL 58.015625 17.1875 \nL 47.609375 17.1875 \nL 47.609375 0 \nL 37.796875 0 \nL 37.796875 17.1875 \nL 4.890625 17.1875 \nL 4.890625 26.703125 \nz\n\" id=\"DejaVuSans-52\"/>\n       </defs>\n       <use xlink:href=\"#DejaVuSans-52\"/>\n       <use x=\"63.623047\" xlink:href=\"#DejaVuSans-48\"/>\n      </g>\n     </g>\n    </g>\n    <g id=\"xtick_4\">\n     <g id=\"line2d_4\">\n      <g>\n       <use style=\"stroke:#000000;stroke-width:0.8;\" x=\"192.952869\" xlink:href=\"#mfc8581f6c1\" y=\"97.443481\"/>\n      </g>\n     </g>\n     <g id=\"text_4\">\n      <!-- 60 -->\n      <g transform=\"translate(186.590369 112.041919)scale(0.1 -0.1)\">\n       <defs>\n        <path d=\"M 33.015625 40.375 \nQ 26.375 40.375 22.484375 35.828125 \nQ 18.609375 31.296875 18.609375 23.390625 \nQ 18.609375 15.53125 22.484375 10.953125 \nQ 26.375 6.390625 33.015625 6.390625 \nQ 39.65625 6.390625 43.53125 10.953125 \nQ 47.40625 15.53125 47.40625 23.390625 \nQ 47.40625 31.296875 43.53125 35.828125 \nQ 39.65625 40.375 33.015625 40.375 \nz\nM 52.59375 71.296875 \nL 52.59375 62.3125 \nQ 48.875 64.0625 45.09375 64.984375 \nQ 41.3125 65.921875 37.59375 65.921875 \nQ 27.828125 65.921875 22.671875 59.328125 \nQ 17.53125 52.734375 16.796875 39.40625 \nQ 19.671875 43.65625 24.015625 45.921875 \nQ 28.375 48.1875 33.59375 48.1875 \nQ 44.578125 48.1875 50.953125 41.515625 \nQ 57.328125 34.859375 57.328125 23.390625 \nQ 57.328125 12.15625 50.6875 5.359375 \nQ 44.046875 -1.421875 33.015625 -1.421875 \nQ 20.359375 -1.421875 13.671875 8.265625 \nQ 6.984375 17.96875 6.984375 36.375 \nQ 6.984375 53.65625 15.1875 63.9375 \nQ 23.390625 74.21875 37.203125 74.21875 \nQ 40.921875 74.21875 44.703125 73.484375 \nQ 48.484375 72.75 52.59375 71.296875 \nz\n\" id=\"DejaVuSans-54\"/>\n       </defs>\n       <use xlink:href=\"#DejaVuSans-54\"/>\n       <use x=\"63.623047\" xlink:href=\"#DejaVuSans-48\"/>\n      </g>\n     </g>\n    </g>\n    <g id=\"xtick_5\">\n     <g id=\"line2d_5\">\n      <g>\n       <use style=\"stroke:#000000;stroke-width:0.8;\" x=\"247.838115\" xlink:href=\"#mfc8581f6c1\" y=\"97.443481\"/>\n      </g>\n     </g>\n     <g id=\"text_5\">\n      <!-- 80 -->\n      <g transform=\"translate(241.475615 112.041919)scale(0.1 -0.1)\">\n       <defs>\n        <path d=\"M 31.78125 34.625 \nQ 24.75 34.625 20.71875 30.859375 \nQ 16.703125 27.09375 16.703125 20.515625 \nQ 16.703125 13.921875 20.71875 10.15625 \nQ 24.75 6.390625 31.78125 6.390625 \nQ 38.8125 6.390625 42.859375 10.171875 \nQ 46.921875 13.96875 46.921875 20.515625 \nQ 46.921875 27.09375 42.890625 30.859375 \nQ 38.875 34.625 31.78125 34.625 \nz\nM 21.921875 38.8125 \nQ 15.578125 40.375 12.03125 44.71875 \nQ 8.5 49.078125 8.5 55.328125 \nQ 8.5 64.0625 14.71875 69.140625 \nQ 20.953125 74.21875 31.78125 74.21875 \nQ 42.671875 74.21875 48.875 69.140625 \nQ 55.078125 64.0625 55.078125 55.328125 \nQ 55.078125 49.078125 51.53125 44.71875 \nQ 48 40.375 41.703125 38.8125 \nQ 48.828125 37.15625 52.796875 32.3125 \nQ 56.78125 27.484375 56.78125 20.515625 \nQ 56.78125 9.90625 50.3125 4.234375 \nQ 43.84375 -1.421875 31.78125 -1.421875 \nQ 19.734375 -1.421875 13.25 4.234375 \nQ 6.78125 9.90625 6.78125 20.515625 \nQ 6.78125 27.484375 10.78125 32.3125 \nQ 14.796875 37.15625 21.921875 38.8125 \nz\nM 18.3125 54.390625 \nQ 18.3125 48.734375 21.84375 45.5625 \nQ 25.390625 42.390625 31.78125 42.390625 \nQ 38.140625 42.390625 41.71875 45.5625 \nQ 45.3125 48.734375 45.3125 54.390625 \nQ 45.3125 60.0625 41.71875 63.234375 \nQ 38.140625 66.40625 31.78125 66.40625 \nQ 25.390625 66.40625 21.84375 63.234375 \nQ 18.3125 60.0625 18.3125 54.390625 \nz\n\" id=\"DejaVuSans-56\"/>\n       </defs>\n       <use xlink:href=\"#DejaVuSans-56\"/>\n       <use x=\"63.623047\" xlink:href=\"#DejaVuSans-48\"/>\n      </g>\n     </g>\n    </g>\n    <g id=\"xtick_6\">\n     <g id=\"line2d_6\">\n      <g>\n       <use style=\"stroke:#000000;stroke-width:0.8;\" x=\"302.723361\" xlink:href=\"#mfc8581f6c1\" y=\"97.443481\"/>\n      </g>\n     </g>\n     <g id=\"text_6\">\n      <!-- 100 -->\n      <g transform=\"translate(293.179611 112.041919)scale(0.1 -0.1)\">\n       <defs>\n        <path d=\"M 12.40625 8.296875 \nL 28.515625 8.296875 \nL 28.515625 63.921875 \nL 10.984375 60.40625 \nL 10.984375 69.390625 \nL 28.421875 72.90625 \nL 38.28125 72.90625 \nL 38.28125 8.296875 \nL 54.390625 8.296875 \nL 54.390625 0 \nL 12.40625 0 \nz\n\" id=\"DejaVuSans-49\"/>\n       </defs>\n       <use xlink:href=\"#DejaVuSans-49\"/>\n       <use x=\"63.623047\" xlink:href=\"#DejaVuSans-48\"/>\n       <use x=\"127.246094\" xlink:href=\"#DejaVuSans-48\"/>\n      </g>\n     </g>\n    </g>\n    <g id=\"xtick_7\">\n     <g id=\"line2d_7\">\n      <g>\n       <use style=\"stroke:#000000;stroke-width:0.8;\" x=\"357.608607\" xlink:href=\"#mfc8581f6c1\" y=\"97.443481\"/>\n      </g>\n     </g>\n     <g id=\"text_7\">\n      <!-- 120 -->\n      <g transform=\"translate(348.064857 112.041919)scale(0.1 -0.1)\">\n       <use xlink:href=\"#DejaVuSans-49\"/>\n       <use x=\"63.623047\" xlink:href=\"#DejaVuSans-50\"/>\n       <use x=\"127.246094\" xlink:href=\"#DejaVuSans-48\"/>\n      </g>\n     </g>\n    </g>\n   </g>\n   <g id=\"matplotlib.axis_2\">\n    <g id=\"ytick_1\">\n     <g id=\"line2d_8\">\n      <defs>\n       <path d=\"M 0 0 \nL -3.5 0 \n\" id=\"m57b40139b3\" style=\"stroke:#000000;stroke-width:0.8;\"/>\n      </defs>\n      <g>\n       <use style=\"stroke:#000000;stroke-width:0.8;\" x=\"26.925\" xlink:href=\"#m57b40139b3\" y=\"10.999219\"/>\n      </g>\n     </g>\n     <g id=\"text_8\">\n      <!-- 0 -->\n      <g transform=\"translate(13.5625 14.798437)scale(0.1 -0.1)\">\n       <use xlink:href=\"#DejaVuSans-48\"/>\n      </g>\n     </g>\n    </g>\n    <g id=\"ytick_2\">\n     <g id=\"line2d_9\">\n      <g>\n       <use style=\"stroke:#000000;stroke-width:0.8;\" x=\"26.925\" xlink:href=\"#m57b40139b3\" y=\"38.441842\"/>\n      </g>\n     </g>\n     <g id=\"text_9\">\n      <!-- 10 -->\n      <g transform=\"translate(7.2 42.24106)scale(0.1 -0.1)\">\n       <use xlink:href=\"#DejaVuSans-49\"/>\n       <use x=\"63.623047\" xlink:href=\"#DejaVuSans-48\"/>\n      </g>\n     </g>\n    </g>\n    <g id=\"ytick_3\">\n     <g id=\"line2d_10\">\n      <g>\n       <use style=\"stroke:#000000;stroke-width:0.8;\" x=\"26.925\" xlink:href=\"#m57b40139b3\" y=\"65.884465\"/>\n      </g>\n     </g>\n     <g id=\"text_10\">\n      <!-- 20 -->\n      <g transform=\"translate(7.2 69.683683)scale(0.1 -0.1)\">\n       <use xlink:href=\"#DejaVuSans-50\"/>\n       <use x=\"63.623047\" xlink:href=\"#DejaVuSans-48\"/>\n      </g>\n     </g>\n    </g>\n    <g id=\"ytick_4\">\n     <g id=\"line2d_11\">\n      <g>\n       <use style=\"stroke:#000000;stroke-width:0.8;\" x=\"26.925\" xlink:href=\"#m57b40139b3\" y=\"93.327088\"/>\n      </g>\n     </g>\n     <g id=\"text_11\">\n      <!-- 30 -->\n      <g transform=\"translate(7.2 97.126306)scale(0.1 -0.1)\">\n       <defs>\n        <path d=\"M 40.578125 39.3125 \nQ 47.65625 37.796875 51.625 33 \nQ 55.609375 28.21875 55.609375 21.1875 \nQ 55.609375 10.40625 48.1875 4.484375 \nQ 40.765625 -1.421875 27.09375 -1.421875 \nQ 22.515625 -1.421875 17.65625 -0.515625 \nQ 12.796875 0.390625 7.625 2.203125 \nL 7.625 11.71875 \nQ 11.71875 9.328125 16.59375 8.109375 \nQ 21.484375 6.890625 26.8125 6.890625 \nQ 36.078125 6.890625 40.9375 10.546875 \nQ 45.796875 14.203125 45.796875 21.1875 \nQ 45.796875 27.640625 41.28125 31.265625 \nQ 36.765625 34.90625 28.71875 34.90625 \nL 20.21875 34.90625 \nL 20.21875 43.015625 \nL 29.109375 43.015625 \nQ 36.375 43.015625 40.234375 45.921875 \nQ 44.09375 48.828125 44.09375 54.296875 \nQ 44.09375 59.90625 40.109375 62.90625 \nQ 36.140625 65.921875 28.71875 65.921875 \nQ 24.65625 65.921875 20.015625 65.03125 \nQ 15.375 64.15625 9.8125 62.3125 \nL 9.8125 71.09375 \nQ 15.4375 72.65625 20.34375 73.4375 \nQ 25.25 74.21875 29.59375 74.21875 \nQ 40.828125 74.21875 47.359375 69.109375 \nQ 53.90625 64.015625 53.90625 55.328125 \nQ 53.90625 49.265625 50.4375 45.09375 \nQ 46.96875 40.921875 40.578125 39.3125 \nz\n\" id=\"DejaVuSans-51\"/>\n       </defs>\n       <use xlink:href=\"#DejaVuSans-51\"/>\n       <use x=\"63.623047\" xlink:href=\"#DejaVuSans-48\"/>\n      </g>\n     </g>\n    </g>\n   </g>\n   <g id=\"patch_3\">\n    <path d=\"M 26.925 97.443481 \nL 26.925 9.627088 \n\" style=\"fill:none;stroke:#000000;stroke-linecap:square;stroke-linejoin:miter;stroke-width:0.8;\"/>\n   </g>\n   <g id=\"patch_4\">\n    <path d=\"M 361.725 97.443481 \nL 361.725 9.627088 \n\" style=\"fill:none;stroke:#000000;stroke-linecap:square;stroke-linejoin:miter;stroke-width:0.8;\"/>\n   </g>\n   <g id=\"patch_5\">\n    <path d=\"M 26.925 97.443481 \nL 361.725 97.443481 \n\" style=\"fill:none;stroke:#000000;stroke-linecap:square;stroke-linejoin:miter;stroke-width:0.8;\"/>\n   </g>\n   <g id=\"patch_6\">\n    <path d=\"M 26.925 9.627088 \nL 361.725 9.627088 \n\" style=\"fill:none;stroke:#000000;stroke-linecap:square;stroke-linejoin:miter;stroke-width:0.8;\"/>\n   </g>\n  </g>\n </g>\n <defs>\n  <clipPath id=\"pdf401822b1\">\n   <rect height=\"87.816393\" width=\"334.8\" x=\"26.925\" y=\"9.627088\"/>\n  </clipPath>\n </defs>\n</svg>\n",
      "image/png": "[encoded data removed]"
     },
     "metadata": {
      "needs_background": "light"
     }
    }
   ],
   "source": [
    "# get some random training images\n",
    "dataiter = iter(trainloader)\n",
    "images, labels = dataiter.next()\n",
    "\n",
    "print(images.shape)\n",
    "# create grid of images\n",
    "img_grid = torchvision.utils.make_grid(images)\n",
    "\n",
    "print(img_grid.shape)\n",
    "# show images\n",
    "matplotlib_imshow(img_grid, one_channel=True)\n",
    "\n",
    "# write to tensorboard\n",
    "writer.add_image('four_fashion_mnist_images', img_grid)"
   ]
  },
  {
   "source": [
    "# 启动 tensorboard web ui"
   ],
   "cell_type": "markdown",
   "metadata": {}
  },
  {
   "cell_type": "code",
   "execution_count": 18,
   "metadata": {},
   "outputs": [
    {
     "output_type": "stream",
     "name": "stdout",
     "text": [
      "TensorFlow installation not found - running with reduced feature set.\n",
      "Serving TensorBoard on localhost; to expose to the network, use a proxy or pass --bind_all\n",
      "TensorBoard 2.4.0 at http://localhost:6006/ (Press CTRL+C to quit)\n",
      "^C\n"
     ]
    }
   ],
   "source": [
    "!tensorboard --logdir=log"
   ]
  },
  {
   "source": [
    "# 使用 TensorBoard 检查模型\n",
    "TensorBoard 的优势之一是其可视化复杂模型结构的能力"
   ],
   "cell_type": "markdown",
   "metadata": {}
  },
  {
   "cell_type": "code",
   "execution_count": 11,
   "metadata": {},
   "outputs": [],
   "source": [
    "writer.add_graph(net, images)\n",
    "writer.close()"
   ]
  },
  {
   "source": [
    "# 在 TensorBoard 中添加一个“投影仪”\n",
    "在低维空间中可视化高维数据"
   ],
   "cell_type": "markdown",
   "metadata": {}
  },
  {
   "cell_type": "code",
   "execution_count": 12,
   "metadata": {},
   "outputs": [
    {
     "output_type": "stream",
     "name": "stdout",
     "text": [
      "images shape: torch.Size([100, 28, 28])\nfeatures shape: torch.Size([100, 784])\n"
     ]
    }
   ],
   "source": [
    "# helper function\n",
    "def select_n_random(data, labels, n=100):\n",
    "    '''\n",
    "    Selects n random datapoints and their corresponding labels from a dataset\n",
    "    '''\n",
    "    assert len(data) == len(labels)\n",
    "\n",
    "    # 打乱顺序的 torch.tensor 数组, 从 0 ~ len(data)\n",
    "    perm = torch.randperm(len(data))\n",
    "    # 返回乱序后的前 n 个数据\n",
    "    return data[perm][:n], labels[perm][:n]\n",
    "\n",
    "# select random images and their target indices\n",
    "images, labels = select_n_random(trainsets.data, trainsets.targets)\n",
    "\n",
    "# get the class labels for each image\n",
    "class_labels = [classes[lab] for lab in labels]\n",
    "\n",
    "print(\"images shape: {}\".format(images.shape))\n",
    "# log embeddings\n",
    "features = images.view(-1, 28 * 28)\n",
    "print(\"features shape: {}\".format(features.shape))\n",
    "writer.add_embedding(features,\n",
    "                    metadata=class_labels,\n",
    "                    label_img=images.unsqueeze(1))\n",
    "writer.close()"
   ]
  },
  {
   "source": [
    "# 使用 TensorBoard 跟踪模型训练"
   ],
   "cell_type": "markdown",
   "metadata": {}
  },
  {
   "cell_type": "code",
   "execution_count": 16,
   "metadata": {},
   "outputs": [],
   "source": [
    "# helper functions\n",
    "\n",
    "def images_to_probs(net, images):\n",
    "    '''\n",
    "    Generates predictions and corresponding probabilities from a trained\n",
    "    network and a list of images\n",
    "    '''\n",
    "    output = net(images)\n",
    "    # convert output probabilities to predicted class\n",
    "    _, preds_tensor = torch.max(output, 1)\n",
    "    # 同 preds = preds_tensor.squeeze()\n",
    "    preds = np.squeeze(preds_tensor.numpy())\n",
    "    # 通过 softmax 将 output 转成对应下标分类的概率\n",
    "    return preds, [F.softmax(el, dim=0)[i].item() for i, el in zip(preds, output)]\n",
    "\n",
    "def plot_classes_preds(net, images, labels):\n",
    "    '''\n",
    "    Generates matplotlib Figure using a trained network, along with images\n",
    "    and labels from a batch, that shows the network's top prediction along\n",
    "    with its probability, alongside the actual label, coloring this\n",
    "    information based on whether the prediction was correct or not.\n",
    "    Uses the \"images_to_probs\" function.\n",
    "    '''\n",
    "    preds, probs = images_to_probs(net, images)\n",
    "    # plot the images in the batch, along with predicted and true labels\n",
    "    fig = plt.figure(figsize=(12, 48))\n",
    "    for idx in np.arange(4):\n",
    "        ax = fig.add_subplot(1, 4, idx+1, xticks=[], yticks=[])\n",
    "        matplotlib_imshow(images[idx], one_channel=True)\n",
    "        ax.set_title(\"{0}, {1:.1f}%\\n(label: {2})\".format(\n",
    "            classes[preds[idx]],\n",
    "            probs[idx] * 100.0,\n",
    "            classes[labels[idx]]),\n",
    "                    color=(\"green\" if preds[idx]==labels[idx].item() else \"red\"))\n",
    "    return fig"
   ]
  },
  {
   "source": [
    "# Training\n",
    "在迭代训练的时候，边输出到 tensorboard"
   ],
   "cell_type": "markdown",
   "metadata": {}
  },
  {
   "cell_type": "code",
   "execution_count": 17,
   "metadata": {},
   "outputs": [
    {
     "output_type": "stream",
     "name": "stdout",
     "text": [
      "Finished Training\n"
     ]
    }
   ],
   "source": [
    "running_loss = 0.0\n",
    "for epoch in range(1):  # loop over the dataset multiple times\n",
    "\n",
    "    for i, data in enumerate(trainloader, 0):\n",
    "\n",
    "        # get the inputs; data is a list of [inputs, labels]\n",
    "        inputs, labels = data\n",
    "\n",
    "        # zero the parameter gradients\n",
    "        optimizer.zero_grad()\n",
    "\n",
    "        # forward + backward + optimize\n",
    "        outputs = net(inputs)\n",
    "        loss = criterion(outputs, labels)\n",
    "        loss.backward()\n",
    "        optimizer.step()\n",
    "\n",
    "        running_loss += loss.item()\n",
    "        if i % 1000 == 999:    # every 1000 mini-batches...\n",
    "\n",
    "            # ...log the running loss\n",
    "            writer.add_scalar('training loss',\n",
    "                            running_loss / 1000,\n",
    "                            epoch * len(trainloader) + i)\n",
    "\n",
    "            # ...log a Matplotlib Figure showing the model's predictions on a\n",
    "            # random mini-batch\n",
    "            writer.add_figure('predictions vs. actuals',\n",
    "                            plot_classes_preds(net, inputs, labels),\n",
    "                            global_step=epoch * len(trainloader) + i)\n",
    "            running_loss = 0.0\n",
    "print('Finished Training')"
   ]
  },
  {
   "source": [
    "# Torch.mean\n",
    "沿着矩阵某一维度，求元素求均值。\n",
    "经常出现的场景：将图片的 channel 维度压缩，彩色图片变成灰度图片。例如：  \n",
    "rgb_img = torch.randn(3, 32, 32)\n",
    "img = torch.mean(rgb_img, dim=0)"
   ],
   "cell_type": "markdown",
   "metadata": {}
  },
  {
   "cell_type": "code",
   "execution_count": null,
   "metadata": {},
   "outputs": [],
   "source": [
    "# torch.mean()\n",
    "\n",
    "x=torch.arange(27.0).view(3, 3, 3)\n",
    "# 沿着 dim 进行挤压\n",
    "x_mean=torch.mean(x,dim=0,keepdim=True)\n",
    "x_mean0=torch.mean(x,dim=1,keepdim=True)\n",
    "print('before bn:')\n",
    "print(\"x size:\", x.shape)\n",
    "print(\"x:\", x)\n",
    "print('x_mean size:', x_mean.shape)\n",
    "print('x_mean:', x_mean)\n",
    "print('x_mean0 size:', x_mean0.shape)\n",
    "print('x_mean0:', x_mean0)\n"
   ]
  },
  {
   "cell_type": "code",
   "execution_count": null,
   "metadata": {},
   "outputs": [],
   "source": []
  }
 ]
}